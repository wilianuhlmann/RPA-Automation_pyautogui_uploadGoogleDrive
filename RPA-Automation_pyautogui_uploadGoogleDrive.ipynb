{
 "cells": [
  {
   "cell_type": "code",
   "execution_count": 38,
   "metadata": {},
   "outputs": [],
   "source": [
    "import pyautogui\n",
    "import time\n",
    "\n",
    "#abrir janela de aviso\n",
    "#pyautogui.alert(\"Começanmdo...\")\n",
    "\n",
    "pyautogui.PAUSE = 0.5\n",
    "pyautogui.press('enter')\n",
    "pyautogui.press('winleft')\n",
    "pyautogui.write('chrome')\n",
    "pyautogui.press('enter')\n",
    "time.sleep(1)\n",
    "pyautogui.write(\"https://drive.google.com/drive/u/0/my-drive\")\n",
    "pyautogui.press('enter')\n",
    "pyautogui.hotkey('winleft','d' )\n",
    "# move para coordenadas a seta do mouse\n",
    "pyautogui.moveTo(6644, 56)\n",
    "#pressiona e segura tecla esquerda do mouse\n",
    "pyautogui.mouseDown()\n",
    "pyautogui.moveTo(4605, 731)\n",
    "pyautogui.hotkey('alt','tab' )\n",
    "time.sleep(2)\n",
    "#solta clique do mouse\n",
    "pyautogui.mouseUp()\n",
    "time.sleep(2)\n",
    "\n",
    "\n"
   ]
  },
  {
   "cell_type": "code",
   "execution_count": 41,
   "metadata": {
    "scrolled": true
   },
   "outputs": [
    {
     "data": {
      "text/plain": [
       "Point(x=4521, y=1214)"
      ]
     },
     "execution_count": 41,
     "metadata": {},
     "output_type": "execute_result"
    }
   ],
   "source": [
    "# Ver posição do mouse no eixo X, Y\n",
    "pyautogui.position()"
   ]
  }
 ],
 "metadata": {
  "kernelspec": {
   "display_name": "Python 3",
   "language": "python",
   "name": "python3"
  },
  "language_info": {
   "codemirror_mode": {
    "name": "ipython",
    "version": 3
   },
   "file_extension": ".py",
   "mimetype": "text/x-python",
   "name": "python",
   "nbconvert_exporter": "python",
   "pygments_lexer": "ipython3",
   "version": "3.8.5"
  }
 },
 "nbformat": 4,
 "nbformat_minor": 4
}
